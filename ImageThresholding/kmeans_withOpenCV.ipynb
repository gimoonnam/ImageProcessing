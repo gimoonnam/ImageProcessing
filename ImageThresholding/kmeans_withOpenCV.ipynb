{
 "cells": [
  {
   "cell_type": "code",
   "execution_count": 111,
   "metadata": {},
   "outputs": [],
   "source": [
    "import numpy as np \n",
    "import os\n",
    "import cv2\n",
    "import matplotlib.pyplot as plt"
   ]
  },
  {
   "cell_type": "code",
   "execution_count": 107,
   "metadata": {},
   "outputs": [
    {
     "name": "stdout",
     "output_type": "stream",
     "text": [
      "Otus_method.ipynb         kmeans_segmentation.ipynb\r\n",
      "\u001b[34mimages\u001b[m\u001b[m                    kmeans_withOpenCV.ipynb\r\n"
     ]
    }
   ],
   "source": [
    "!ls"
   ]
  },
  {
   "cell_type": "code",
   "execution_count": 164,
   "metadata": {},
   "outputs": [],
   "source": [
    "class kmeans:\n",
    "    def __init__(self, Inputfile):\n",
    "        with open(Inputfile) as f:\n",
    "            lines = f.readlines()\n",
    "        row = len(lines)\n",
    "        col = len(lines[0].strip('\\n').split())\n",
    "        self.data = np.empty((row, col))\n",
    "        k = 0\n",
    "        for l in lines:\n",
    "            arr = l.strip('\\n').split()\n",
    "            for i in range(len(arr)):\n",
    "                self.data[k,i] = float(arr[i]) \n",
    "\n",
    "            k +=1 \n",
    "\n",
    "            \n",
    "    def process(self):\n",
    "        criteria = (cv2.TERM_CRITERIA_EPS + cv2.TERM_CRITERIA_MAX_ITER, 10, 1.0)\n",
    "        ret,label,center = cv2.kmeans(np.float32(self.data),3,None,criteria,10,cv2.KMEANS_RANDOM_CENTERS)\n",
    "        A = self.data[label.ravel()==0]\n",
    "        B = self.data[label.ravel()==1]\n",
    "        C = self.data[label.ravel()==2]\n",
    "\n",
    "        plt.scatter(A[:,0],A[:,1])\n",
    "        plt.scatter(B[:,0],B[:,1],c = 'r')\n",
    "        plt.scatter(C[:,0],C[:,1],c = 'g')\n",
    "\n",
    "        plt.scatter(center[:,0],center[:,1],s = 80,c = 'y', marker = 's')\n",
    "        plt.xlabel('x'),plt.ylabel('y')\n",
    "        plt.show()\n",
    "    "
   ]
  },
  {
   "cell_type": "code",
   "execution_count": 165,
   "metadata": {},
   "outputs": [],
   "source": [
    "inputfile = ''.join(os.getcwd()+'/images/input.txt')\n",
    "a = kmeans(inputfile)"
   ]
  },
  {
   "cell_type": "code",
   "execution_count": 166,
   "metadata": {},
   "outputs": [
    {
     "data": {
      "text/plain": [
       "Text(0, 0.5, 'y')"
      ]
     },
     "execution_count": 166,
     "metadata": {},
     "output_type": "execute_result"
    },
    {
     "data": {
      "image/png": "[encoded data removed]",
      "text/plain": [
       "<Figure size 432x288 with 1 Axes>"
      ]
     },
     "metadata": {
      "needs_background": "light"
     },
     "output_type": "display_data"
    }
   ],
   "source": [
    "plt.scatter(a.data[:,0], a.data[:,1])\n",
    "plt.xlabel('x')\n",
    "plt.ylabel('y')"
   ]
  },
  {
   "cell_type": "code",
   "execution_count": 167,
   "metadata": {},
   "outputs": [
    {
     "data": {
      "image/png": "[encoded data removed]",
      "text/plain": [
       "<Figure size 432x288 with 1 Axes>"
      ]
     },
     "metadata": {
      "needs_background": "light"
     },
     "output_type": "display_data"
    }
   ],
   "source": [
    "a.process()"
   ]
  },
  {
   "cell_type": "code",
   "execution_count": 156,
   "metadata": {},
   "outputs": [
    {
     "data": {
      "text/plain": [
       "2"
      ]
     },
     "execution_count": 156,
     "metadata": {},
     "output_type": "execute_result"
    }
   ],
   "source": [
    "cv2.TERM_CRITERIA_EPS"
   ]
  },
  {
   "cell_type": "code",
   "execution_count": 157,
   "metadata": {},
   "outputs": [
    {
     "data": {
      "text/plain": [
       "24.933333158493042"
      ]
     },
     "execution_count": 157,
     "metadata": {},
     "output_type": "execute_result"
    }
   ],
   "source": [
    "ret"
   ]
  },
  {
   "cell_type": "code",
   "execution_count": null,
   "metadata": {},
   "outputs": [],
   "source": []
  }
 ],
 "metadata": {
  "kernelspec": {
   "display_name": "Python 3",
   "language": "python",
   "name": "python3"
  },
  "language_info": {
   "codemirror_mode": {
    "name": "ipython",
    "version": 3
   },
   "file_extension": ".py",
   "mimetype": "text/x-python",
   "name": "python",
   "nbconvert_exporter": "python",
   "pygments_lexer": "ipython3",
   "version": "3.6.10"
  }
 },
 "nbformat": 4,
 "nbformat_minor": 4
}
