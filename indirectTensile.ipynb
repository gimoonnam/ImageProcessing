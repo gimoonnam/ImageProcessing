{
  "nbformat": 4,
  "nbformat_minor": 0,
  "metadata": {
    "colab": {
      "name": "indirectTensile.ipynb",
      "provenance": [],
      "collapsed_sections": []
    },
    "kernelspec": {
      "display_name": "Python 3",
      "language": "python",
      "name": "python3"
    },
    "language_info": {
      "codemirror_mode": {
        "name": "ipython",
        "version": 3
      },
      "file_extension": ".py",
      "mimetype": "text/x-python",
      "name": "python",
      "nbconvert_exporter": "python",
      "pygments_lexer": "ipython3",
      "version": "3.6.10"
    }
  },
  "cells": [
    {
      "cell_type": "code",
      "metadata": {
        "colab": {
          "base_uri": "https://localhost:8080/"
        },
        "id": "XgeQ1y9BhIlR",
        "outputId": "9afd20bb-372b-47ae-9d16-3eac9beae343"
      },
      "source": [
        "import numpy as np \n",
        "import pandas as pd\n",
        "import time\n",
        "import os\n",
        "import matplotlib.pyplot as plt \n",
        "from scipy import stats \n",
        "from scipy.stats import norm, skew\n",
        "import seaborn as sns\n",
        "\n",
        "from google.colab import drive\n",
        "drive.mount('/content/drive')\n"
      ],
      "execution_count": null,
      "outputs": [
        {
          "output_type": "stream",
          "text": [
            "Mounted at /content/drive\n"
          ],
          "name": "stdout"
        }
      ]
    },
    {
      "cell_type": "code",
      "metadata": {
        "colab": {
          "base_uri": "https://localhost:8080/"
        },
        "id": "cGyH_tLZNDxW",
        "outputId": "7f19be29-486b-4f70-b4ff-f9ba62bdb300"
      },
      "source": [
        "cd /content/drive/MyDrive/ColabNotebooks/"
      ],
      "execution_count": null,
      "outputs": [
        {
          "output_type": "stream",
          "text": [
            "/content/drive/MyDrive/ColabNotebooks\n"
          ],
          "name": "stdout"
        }
      ]
    },
    {
      "cell_type": "code",
      "metadata": {
        "id": "QI4gzb_Yaky4"
      },
      "source": [
        "def read_file(filename, measure):\n",
        "    if not os.path.isfile(filename):\n",
        "        raise FileNotFoundError('File does not exist!! '+ filename)\n",
        "    \n",
        "    data = [] \n",
        "    with open(filename ,'r', encoding='utf-16') as f:\n",
        "        contents = f.read()\n",
        "        \n",
        "        if measure == 'time': \n",
        "            return [float(c) for c in contents.split(',') if len(c) != 0]\n",
        "\n",
        "        print(filename, len(contents.split(';')[1]))\n",
        "\n",
        "        data = [] \n",
        "        for C in contents.split(';'):\n",
        "            if len(C) != 0:\n",
        "                data.append(np.mean([float(c) for c in C.split(',') if len(c) != 0]))\n",
        "\n",
        "    return data \n",
        "\n",
        "\n",
        "def constructDataFrame(workingDir):\n",
        "  f_timetable = os.path.join(workingDir,\"res_timetable.txt\")\n",
        "  f_stress = os.path.join(workingDir,\"res_stress.txt\")\n",
        "  f_strain = os.path.join(workingDir,\"res_strain.txt\")\n",
        "  f_disp = os.path.join(workingDir,\"res_displacement.txt\")\n",
        "  f_fatigue = os.path.join(workingDir,\"res_fatigueLife.txt\")\n",
        "\n",
        "  t      = read_file(f_timetable, 'time')\n",
        "  stress = read_file(f_stress, 'stress')\n",
        "  strain = read_file(f_strain, 'strain')\n",
        "  disp   = read_file(f_disp, 'disp')\n",
        "  fatigueLife = read_file(f_fatigue,'fatigue')\n",
        "          \n",
        "  column = ['time(s)', 'stress(Pa)', 'strain', 'displacement(mm)', 'dSigma','dEpsilon','fatigueLife']\n",
        "  dSigma = list(np.insert(np.diff(stress), 0, 0))\n",
        "  dEpsilon = list(np.insert(np.diff(strain), 0, 0))\n",
        "\n",
        "  df = pd.DataFrame(np.concatenate([[t],[stress],[strain],[disp],[dSigma],[dEpsilon],[fatigueLife]]).T, columns=column)\n",
        "\n",
        "  #display(df.head()) \n",
        "  #display(df.tail())\n",
        "\n",
        "  return df \n"
      ],
      "execution_count": null,
      "outputs": []
    },
    {
      "cell_type": "code",
      "metadata": {
        "id": "3-bZ9puaGqTe"
      },
      "source": [
        "#df_test = constructDataFrame(os.path.join(os.getcwd(), \"data/cylinderTest/2MN/set1\"))"
      ],
      "execution_count": null,
      "outputs": []
    },
    {
      "cell_type": "code",
      "metadata": {
        "colab": {
          "base_uri": "https://localhost:8080/"
        },
        "id": "D7kEKs_Aa42-",
        "outputId": "50e4bb0c-acd3-4cfa-afc0-58d16f86ae35"
      },
      "source": [
        "expSetup = \"data/indirectTensile\"\n",
        "\n",
        "workingDir_2MN = os.path.join(os.getcwd(), \"data/cylinderTest/2MN/set1\")\n",
        "workingDir_3MN = os.path.join(os.getcwd(), \"data/cylinderTest/3MN\")\n",
        "workingDir_5MN = os.path.join(os.getcwd(), \"data/cylinderTest/5MN\")\n",
        "workingDir_7MN = os.path.join(os.getcwd(), \"data/cylinderTest/7MN\")\n",
        "\n",
        "df2 = constructDataFrame(workingDir_2MN)\n",
        "df3 = constructDataFrame(workingDir_3MN)\n",
        "df5 = constructDataFrame(workingDir_5MN)\n",
        "df7 = constructDataFrame(workingDir_7MN)"
      ],
      "execution_count": null,
      "outputs": [
        {
          "output_type": "stream",
          "text": [
            "/content/drive/MyDrive/ColabNotebooks/data/cylinderTest/2MN/set1/res_stress.txt 12530\n",
            "/content/drive/MyDrive/ColabNotebooks/data/cylinderTest/2MN/set1/res_strain.txt 8662\n",
            "/content/drive/MyDrive/ColabNotebooks/data/cylinderTest/2MN/set1/res_displacement.txt 17759\n",
            "/content/drive/MyDrive/ColabNotebooks/data/cylinderTest/2MN/set1/res_fatigueLife.txt 11376\n",
            "/content/drive/MyDrive/ColabNotebooks/data/cylinderTest/3MN/res_stress.txt 11376\n",
            "/content/drive/MyDrive/ColabNotebooks/data/cylinderTest/3MN/res_strain.txt 8665\n",
            "/content/drive/MyDrive/ColabNotebooks/data/cylinderTest/3MN/res_displacement.txt 17794\n",
            "/content/drive/MyDrive/ColabNotebooks/data/cylinderTest/3MN/res_fatigueLife.txt 11376\n",
            "/content/drive/MyDrive/ColabNotebooks/data/cylinderTest/5MN/res_stress.txt 11376\n",
            "/content/drive/MyDrive/ColabNotebooks/data/cylinderTest/5MN/res_strain.txt 8664\n",
            "/content/drive/MyDrive/ColabNotebooks/data/cylinderTest/5MN/res_displacement.txt 17769\n",
            "/content/drive/MyDrive/ColabNotebooks/data/cylinderTest/5MN/res_fatigueLife.txt 11376\n",
            "/content/drive/MyDrive/ColabNotebooks/data/cylinderTest/7MN/res_stress.txt 12119\n",
            "/content/drive/MyDrive/ColabNotebooks/data/cylinderTest/7MN/res_strain.txt 8658\n",
            "/content/drive/MyDrive/ColabNotebooks/data/cylinderTest/7MN/res_displacement.txt 17793\n",
            "/content/drive/MyDrive/ColabNotebooks/data/cylinderTest/7MN/res_fatigueLife.txt 11376\n"
          ],
          "name": "stdout"
        }
      ]
    },
    {
      "cell_type": "code",
      "metadata": {
        "colab": {
          "base_uri": "https://localhost:8080/",
          "height": 362
        },
        "id": "ANUMMqHWbkfy",
        "outputId": "e9c37b7c-4063-4c08-fe45-8e312832db03"
      },
      "source": [
        "with open(\"data/cylinderTest/sn_curve.csv\" ,'r') as f:\n",
        "    contents = f.read()\n",
        "#    t = [float(c) for c in contents.split(',') if len(c) != 0]\n",
        "sn_alloy = []\n",
        "for c in contents.split('\\t'):\n",
        "    for el in c.split('\\n'): \n",
        "        if len(el) != 0:\n",
        "            sn_alloy.append(float(el))\n",
        "\n",
        "sn_alloy = np.array(sn_alloy).reshape((-1,2))\n",
        "\n",
        "plt.figure(figsize=(16,5))\n",
        "\n",
        "plt.subplot(1,2,1)\n",
        "plt.plot(df2['strain'], df2['stress(Pa)'], 'r-x', label='2MN')\n",
        "plt.plot(df3['strain'], df3['stress(Pa)'], 'ko', label='3MN')\n",
        "plt.plot(df5['strain'], df5['stress(Pa)'], 'go', label='5MN')\n",
        "plt.plot(df7['strain'], df7['stress(Pa)'], 'b+', label='7MN')\n",
        "#plt.plot(X,yfit, 'k-.')\n",
        "plt.xlabel(\"strain\")\n",
        "plt.ylabel(\"stress [Pa]\")\n",
        "plt.legend()\n",
        "\n",
        "plt.subplot(1,2,2)\n",
        "plt.plot(sn_alloy[:,0],sn_alloy[:,1],'k-', label='ASME curve')\n",
        "plt.plot(df2['fatigueLife'], df2['stress(Pa)'], 'rx', label='2MN')\n",
        "plt.plot(df3['fatigueLife'], df3['stress(Pa)'], 'ko', label='3MN')\n",
        "plt.plot(df5['fatigueLife'], df5['stress(Pa)'], 'go', label='5MN')\n",
        "plt.plot(df7['fatigueLife'], df7['stress(Pa)'], 'b+', label='7MN')\n",
        "plt.xlabel(\"fatigue cycle\")\n",
        "plt.ylabel(\"stress [Pa]\")\n",
        "plt.legend()\n"
      ],
      "execution_count": null,
      "outputs": [
        {
          "output_type": "execute_result",
          "data": {
            "text/plain": [
              "<matplotlib.legend.Legend at 0x7f6b5f4fe650>"
            ]
          },
          "metadata": {
            "tags": []
          },
          "execution_count": 7
        },
        {
          "output_type": "display_data",
          "data": {
            "image/png": "[encoded data removed]",
            "text/plain": [
              "<Figure size 1152x360 with 2 Axes>"
            ]
          },
          "metadata": {
            "tags": [],
            "needs_background": "light"
          }
        }
      ]
    },
    {
      "cell_type": "code",
      "metadata": {
        "colab": {
          "base_uri": "https://localhost:8080/"
        },
        "id": "LpW9bt4Rwooo",
        "outputId": "7393ab2f-50f0-4c55-803e-2702aa532050"
      },
      "source": [
        "df2.columns"
      ],
      "execution_count": null,
      "outputs": [
        {
          "output_type": "execute_result",
          "data": {
            "text/plain": [
              "Index(['time(s)', 'stress(Pa)', 'strain', 'displacement(mm)', 'dSigma',\n",
              "       'dEpsilon', 'fatigueLife'],\n",
              "      dtype='object')"
            ]
          },
          "metadata": {
            "tags": []
          },
          "execution_count": 8
        }
      ]
    },
    {
      "cell_type": "code",
      "metadata": {
        "colab": {
          "base_uri": "https://localhost:8080/",
          "height": 282
        },
        "id": "s8gBEH4y2-oi",
        "outputId": "e7a24ab8-6e1c-4e51-8aab-353b261f8c91"
      },
      "source": [
        "plt.plot(df2['time(s)'], df2['displacement(mm)'], 'r-x')"
      ],
      "execution_count": null,
      "outputs": [
        {
          "output_type": "execute_result",
          "data": {
            "text/plain": [
              "[<matplotlib.lines.Line2D at 0x7f93d15ccd10>]"
            ]
          },
          "metadata": {
            "tags": []
          },
          "execution_count": 71
        },
        {
          "output_type": "display_data",
          "data": {
            "image/png": "[encoded data removed]",
            "text/plain": [
              "<Figure size 432x288 with 1 Axes>"
            ]
          },
          "metadata": {
            "tags": [],
            "needs_background": "light"
          }
        }
      ]
    },
    {
      "cell_type": "code",
      "metadata": {
        "id": "yMu3fsh-2-oj"
      },
      "source": [
        "for i, val in enumerate(df['fatigueLife']): \n",
        "    if val > 0.8e+6: \n",
        "        print(i, val)"
      ],
      "execution_count": null,
      "outputs": []
    },
    {
      "cell_type": "code",
      "metadata": {
        "colab": {
          "base_uri": "https://localhost:8080/",
          "height": 400
        },
        "id": "-yFG1_NxjAYP",
        "outputId": "45efca95-5b6a-4d63-8ffa-3b44de81e39d"
      },
      "source": [
        "df = pd.DataFrame()\n",
        "df = df.append(df2)\n",
        "df = df.append(df3)\n",
        "df = df.append(df5)\n",
        "df = df.append(df7)\n",
        "\n",
        "df = df.reset_index()\n",
        "display(df.shape)\n",
        "\n",
        "ind_drop = []\n",
        "\n",
        "for i, el in enumerate(df.fatigueLife):\n",
        "    if el > 0.8e+6: \n",
        "      df.drop(index=i, inplace=True)\n",
        "\n",
        "df = df.reset_index()\n",
        "print(\"after cutoff minimal stresses \", df.shape)\n",
        "\n",
        "plt.figure(figsize=(16,5))\n",
        "\n",
        "plt.subplot(1,2,1)\n",
        "plt.plot(df['strain'], df['stress(Pa)'], 'rx')\n",
        "#plt.plot(X,yfit, 'k-.')\n",
        "plt.xlabel(\"strain\")\n",
        "plt.ylabel(\"stress [Pa]\")\n",
        "\n",
        "plt.subplot(1,2,2)\n",
        "plt.loglog(sn_alloy[:,0],sn_alloy[:,1],'k-', label='ASME curve')\n",
        "plt.plot(df['fatigueLife'], df['stress(Pa)'], 'bo', label='interpolated values')\n",
        "plt.xlabel(\"fatigue cycle\")\n",
        "plt.ylabel(\"stress [Pa]\")\n",
        "plt.legend()\n"
      ],
      "execution_count": null,
      "outputs": [
        {
          "output_type": "display_data",
          "data": {
            "text/plain": [
              "(135, 8)"
            ]
          },
          "metadata": {
            "tags": []
          }
        },
        {
          "output_type": "stream",
          "text": [
            "after cutoff minimal stresses  (74, 9)\n"
          ],
          "name": "stdout"
        },
        {
          "output_type": "execute_result",
          "data": {
            "text/plain": [
              "<matplotlib.legend.Legend at 0x7f6b5f3c0510>"
            ]
          },
          "metadata": {
            "tags": []
          },
          "execution_count": 9
        },
        {
          "output_type": "display_data",
          "data": {
            "image/png": "[encoded data removed]",
            "text/plain": [
              "<Figure size 1152x360 with 2 Axes>"
            ]
          },
          "metadata": {
            "tags": [],
            "needs_background": "light"
          }
        }
      ]
    },
    {
      "cell_type": "code",
      "metadata": {
        "colab": {
          "base_uri": "https://localhost:8080/"
        },
        "id": "rCi1YDYulRv_",
        "outputId": "e9929905-f51a-4763-df25-b16c06aba3b0"
      },
      "source": [
        "X = df[['stress(Pa)', 'strain','displacement(mm)']]\n",
        "y = df.fatigueLife\n",
        "\n",
        "X, y"
      ],
      "execution_count": null,
      "outputs": [
        {
          "output_type": "execute_result",
          "data": {
            "text/plain": [
              "(      stress(Pa)    strain  displacement(mm)\n",
              " 0   2.145269e+08  0.000868          0.041420\n",
              " 1   2.195723e+08  0.000888          0.042393\n",
              " 2   2.246177e+08  0.000909          0.043366\n",
              " 3   2.296630e+08  0.000929          0.044339\n",
              " 4   2.347082e+08  0.000949          0.045311\n",
              " ..           ...       ...               ...\n",
              " 69  6.192601e+08  0.003610          0.154474\n",
              " 70  6.195964e+08  0.003650          0.155852\n",
              " 71  6.196277e+08  0.003653          0.155965\n",
              " 72  6.197786e+08  0.003673          0.156645\n",
              " 73  6.201148e+08  0.003721          0.158292\n",
              " \n",
              " [74 rows x 3 columns], 0     797194.995879\n",
              " 1     727756.175893\n",
              " 2     655536.442278\n",
              " 3     581034.474072\n",
              " 4     499793.684466\n",
              "           ...      \n",
              " 69      3248.224033\n",
              " 70      3237.247065\n",
              " 71      3236.378489\n",
              " 72      3231.221319\n",
              " 73      3219.226728\n",
              " Name: fatigueLife, Length: 74, dtype: float64)"
            ]
          },
          "metadata": {
            "tags": []
          },
          "execution_count": 10
        }
      ]
    },
    {
      "cell_type": "code",
      "metadata": {
        "id": "fAkotRR2hBcP"
      },
      "source": [
        "# # Plotting results \n",
        "# plt.figure(figsize=(10,10))\n",
        "\n",
        "# plt.subplot(3,2,1)\n",
        "# plt.plot(t,stress,'x-')\n",
        "# plt.xlabel(\"time [s]\")\n",
        "# plt.ylabel(\"stress [Pa]\")\n",
        "\n",
        "# plt.subplot(3,2,2)\n",
        "# plt.plot(strain, stress, 'b-x')\n",
        "# plt.xlabel(\"strain\")\n",
        "# plt.ylabel(\"stress [Pa]\")\n",
        "\n",
        "# plt.subplot(3,2,3)\n",
        "# plt.plot(t, disp, '-x')\n",
        "# plt.xlabel(\"t [s]\")\n",
        "# plt.ylabel(\"displacement [mm]\")            \n",
        "\n",
        "#plotting S-N curve of reference alloy s"
      ],
      "execution_count": null,
      "outputs": []
    },
    {
      "cell_type": "code",
      "metadata": {
        "id": "Rdt7-iEV78_k"
      },
      "source": [
        "# linear fit on the elastic regime, giving Young's modulus \n",
        "\n",
        "# from sklearn.linear_model import LinearRegression\n",
        "\n",
        "# X = np.expand_dims(np.array(xLinear), axis=1)\n",
        "# y = np.expand_dims(np.array(yLinear), axis=1)\n",
        "# reg = LinearRegression().fit(X,y)\n",
        "# reg.score(X,y)\n",
        "# print(reg.coef_, reg.intercept_)\n",
        "\n",
        "# yfit = reg.coef_*X + reg.intercept_\n",
        "\n",
        "# plt.scatter(xLinear, yLinear)\n",
        "# plt.plot(X,yfit, 'k')"
      ],
      "execution_count": null,
      "outputs": []
    },
    {
      "cell_type": "code",
      "metadata": {
        "id": "8BcYyOre2-ol"
      },
      "source": [
        "df_short = df[['stress(Pa)', 'strain','displacement(mm)','fatigueLife']].copy()"
      ],
      "execution_count": null,
      "outputs": []
    },
    {
      "cell_type": "markdown",
      "metadata": {
        "id": "piSup438rDyV"
      },
      "source": [
        "# Regression models"
      ]
    },
    {
      "cell_type": "code",
      "metadata": {
        "colab": {
          "base_uri": "https://localhost:8080/",
          "height": 363
        },
        "id": "yNLG4kgcrRK4",
        "outputId": "6ab39047-e6a9-4fac-8768-1a21ddadd250"
      },
      "source": [
        "plt.hist(df['stress(Pa)'])"
      ],
      "execution_count": null,
      "outputs": [
        {
          "output_type": "execute_result",
          "data": {
            "text/plain": [
              "(array([12.,  2.,  2.,  2.,  4.,  1.,  3.,  3.,  3., 42.]),\n",
              " array([2.14526864e+08, 2.55245680e+08, 2.95964495e+08, 3.36683310e+08,\n",
              "        3.77402125e+08, 4.18120940e+08, 4.58839755e+08, 4.99558570e+08,\n",
              "        5.40277385e+08, 5.80996200e+08, 6.21715015e+08]),\n",
              " <a list of 10 Patch objects>)"
            ]
          },
          "metadata": {
            "tags": []
          },
          "execution_count": 12
        },
        {
          "output_type": "display_data",
          "data": {
            "image/png": "[encoded data removed]",
            "text/plain": [
              "<Figure size 432x288 with 1 Axes>"
            ]
          },
          "metadata": {
            "tags": [],
            "needs_background": "light"
          }
        }
      ]
    },
    {
      "cell_type": "code",
      "metadata": {
        "colab": {
          "base_uri": "https://localhost:8080/"
        },
        "id": "2JiibNWPt8Xb",
        "outputId": "5727738c-43f7-404c-92cf-87a006faad40"
      },
      "source": [
        "X = np.array(X)\n",
        "y = np.array(y)\n",
        "print(X.shape, y.shape)\n",
        "print(df.columns)"
      ],
      "execution_count": null,
      "outputs": [
        {
          "output_type": "stream",
          "text": [
            "(74, 3) (74,)\n",
            "Index(['level_0', 'index', 'time(s)', 'stress(Pa)', 'strain',\n",
            "       'displacement(mm)', 'dSigma', 'dEpsilon', 'fatigueLife'],\n",
            "      dtype='object')\n"
          ],
          "name": "stdout"
        }
      ]
    },
    {
      "cell_type": "code",
      "metadata": {
        "colab": {
          "base_uri": "https://localhost:8080/",
          "height": 425
        },
        "id": "6S-qkLkgl_ze",
        "outputId": "6294b077-9746-429f-c544-dc64607417cb"
      },
      "source": [
        "import seaborn as sns\n",
        "\n",
        "corr = df_short.corr()\n",
        "plt.subplots(figsize=(5,5))\n",
        "sns.heatmap(corr,xticklabels=corr.columns, \n",
        "            yticklabels=corr.columns, annot=True, cmap=sns.diverging_palette(220, 20, as_cmap=True))\n"
      ],
      "execution_count": null,
      "outputs": [
        {
          "output_type": "execute_result",
          "data": {
            "text/plain": [
              "<matplotlib.axes._subplots.AxesSubplot at 0x7f6b5f575410>"
            ]
          },
          "metadata": {
            "tags": []
          },
          "execution_count": 14
        },
        {
          "output_type": "display_data",
          "data": {
            "image/png": "[encoded data removed]",
            "text/plain": [
              "<Figure size 360x360 with 2 Axes>"
            ]
          },
          "metadata": {
            "tags": [],
            "needs_background": "light"
          }
        }
      ]
    },
    {
      "cell_type": "code",
      "metadata": {
        "id": "yn3XdIsY0Jxd"
      },
      "source": [
        "from sklearn.preprocessing import StandardScaler\n",
        "from sklearn.preprocessing import PolynomialFeatures\n",
        "from sklearn import linear_model \n",
        "\n",
        "from sklearn.model_selection import train_test_split\n",
        "from sklearn.metrics import accuracy_score\n",
        "from sklearn.linear_model import LinearRegression\n",
        "from sklearn.metrics import r2_score\n",
        "from scipy.stats import pearsonr\n",
        "from sklearn.metrics import mean_absolute_error\n",
        "from sklearn.metrics import mean_squared_error\n",
        "import tensorflow as tf \n",
        "from tensorflow.keras import regularizers\n",
        "from tensorflow.keras import layers\n",
        "import tensorflow as tf\n",
        "from tensorflow.keras.models import Sequential\n",
        "from tensorflow.keras.layers import BatchNormalization\n",
        "from tensorflow.keras.layers import Conv2D\n",
        "from tensorflow.keras.layers import MaxPooling2D\n",
        "from tensorflow.keras.layers import Activation\n",
        "from tensorflow.keras.layers import Dropout\n",
        "from tensorflow.keras.layers import Dense\n",
        "from tensorflow.keras.layers import Flatten\n",
        "from tensorflow.keras.layers import Input\n",
        "from tensorflow.keras.models import Model\n",
        "from tensorflow.keras.optimizers import Adam\n",
        "\n",
        "def SingleVariatePolynomialRegression(_X,_Y):\n",
        "    \n",
        "    plt.scatter(_X,_Y)\n",
        "\n",
        "    nb_degree = 4\n",
        "\n",
        "    polynomial_features = PolynomialFeatures(degree = nb_degree)\n",
        "\n",
        "    X_TRANSF = polynomial_features.fit_transform(X)\n",
        "\n",
        "    model = LinearRegression()\n",
        "    model.fit(X_TRANSF, _Y)\n",
        "\n",
        "    Y_NEW = model.predict(X_TRANSF)\n",
        "    rmse = np.sqrt(mean_squared_error(_Y, Y_NEW))\n",
        "    r2 = r2_score(_Y, Y_NEW)\n",
        "\n",
        "    print('RMSE: ', rmse)\n",
        "    print('R2: ', r2)\n",
        "\n",
        "    x_new_min = min(_X)\n",
        "    x_new_max = max(_X)\n",
        "\n",
        "    X_NEW = np.linspace(x_new_min, x_new_max, 100)\n",
        "\n",
        "    X_NEW_TRANSF = polynomial_features.fit_transform(X_NEW)\n",
        "\n",
        "    Y_NEW = model.predict(X_NEW_TRANSF)\n",
        "\n",
        "    plt.plot(X_NEW, Y_NEW, color='coral', linewidth=3)\n",
        "\n",
        "    plt.grid()\n",
        "    plt.xlim(x_new_min,x_new_max)\n",
        "\n",
        "    title = 'Degree = {}; RMSE = {}; R2 = {}'.format(nb_degree, round(rmse,2), round(r2,2))\n",
        "\n",
        "    plt.title(\"Polynomial Linear Regression using scikit-learn and python 3 \\n \" + title,\n",
        "              fontsize=10)\n",
        "    plt.xlabel('x')\n",
        "    plt.ylabel('y')\n",
        "\n",
        "    #plt.savefig(\"polynomial_linear_regression.png\", bbox_inches='tight')\n",
        "    plt.show()"
      ],
      "execution_count": null,
      "outputs": []
    },
    {
      "cell_type": "code",
      "metadata": {
        "colab": {
          "base_uri": "https://localhost:8080/",
          "height": 339
        },
        "id": "MqswAdjY2-oo",
        "outputId": "6e31148e-271e-41ca-9aa6-9f35de445b7f"
      },
      "source": [
        "X = np.expand_dims(np.log1p(df_short['stress(Pa)'].values),axis=1)\n",
        "Y = np.expand_dims(np.log1p(df_short.fatigueLife.values),axis=1)\n",
        "\n",
        "#plt.figure(figsize=(15,5))\n",
        "#plt.subplot(3,1,1)\n",
        "SingleVariatePolynomialRegression(X, Y)\n",
        "\n",
        "# plt.subplot(3,1,2)\n",
        "# SingleVariatePolynomialRegression(X, Y)\n",
        "\n",
        "# plt.subplot(3,1,3)\n",
        "# SingleVariatePolynomialRegression(X, Y)\n"
      ],
      "execution_count": null,
      "outputs": [
        {
          "output_type": "stream",
          "text": [
            "RMSE:  0.013824121478114229\n",
            "R2:  0.9999478925958251\n"
          ],
          "name": "stdout"
        },
        {
          "output_type": "display_data",
          "data": {
            "image/png": "[encoded data removed]",
            "text/plain": [
              "<Figure size 432x288 with 1 Axes>"
            ]
          },
          "metadata": {
            "tags": [],
            "needs_background": "light"
          }
        }
      ]
    },
    {
      "cell_type": "code",
      "metadata": {
        "colab": {
          "base_uri": "https://localhost:8080/"
        },
        "id": "xTGJCmPHAFTP",
        "outputId": "441411f4-37fa-4bbd-dd8e-e7aff4265ab1"
      },
      "source": [
        "Xmul = np.log1p(df_short.values)\n",
        "#Y = np.expand_dims(np.log1p(df_short.fatigueLife.values),axis=1)\n",
        "print(Xmul.shape)"
      ],
      "execution_count": null,
      "outputs": [
        {
          "output_type": "stream",
          "text": [
            "(74, 4)\n"
          ],
          "name": "stdout"
        }
      ]
    },
    {
      "cell_type": "code",
      "metadata": {
        "colab": {
          "base_uri": "https://localhost:8080/",
          "height": 313
        },
        "id": "n91Gc4YN_9oB",
        "outputId": "f262b090-ba32-4db9-cbdc-e8d63643be2a"
      },
      "source": [
        "# multivariate polynomial regression \n",
        "\n",
        "polynomial_features = PolynomialFeatures(degree = 4)\n",
        "\n",
        "X_TRANSF = polynomial_features.fit_transform(X)\n",
        "\n",
        "model = LinearRegression()\n",
        "\n",
        "model.fit(X_TRANSF, Y)\n",
        "\n",
        "Y_NEW = model.predict(X_TRANSF)\n",
        "\n",
        "rmse = np.sqrt(mean_squared_error(Y, Y_NEW))\n",
        "r2 = r2_score(Y, Y_NEW)\n",
        "\n",
        "print('RMSE: ', rmse)\n",
        "print('R2: ', r2)\n",
        "\n",
        "plt.scatter(Y, Y_NEW)\n",
        "plt.xlabel('True Values')\n",
        "plt.ylabel('Predicted Values')\n",
        "Max = max([np.max(Y), np.max(Y_NEW)]) \n",
        "Min = min([np.min(Y), np.min(Y_NEW)])\n",
        "lims = [Min, Max]\n",
        "plt.xlim(lims)\n",
        "plt.ylim(lims)\n",
        "plt.gca().set_aspect('equal', adjustable='box')\n",
        "_ = plt.plot(lims, lims, 'k')"
      ],
      "execution_count": null,
      "outputs": [
        {
          "output_type": "stream",
          "text": [
            "RMSE:  0.013824121478114229\n",
            "R2:  0.9999478925958251\n"
          ],
          "name": "stdout"
        },
        {
          "output_type": "display_data",
          "data": {
            "image/png": "[encoded data removed]",
            "text/plain": [
              "<Figure size 432x288 with 1 Axes>"
            ]
          },
          "metadata": {
            "tags": [],
            "needs_background": "light"
          }
        }
      ]
    },
    {
      "cell_type": "code",
      "metadata": {
        "id": "s_VJGHhZsa7q"
      },
      "source": [
        "def evaluations(y_test, y_pred):\n",
        "    corr, _ = pearsonr(y_test, y_pred)\n",
        "\n",
        "    EvalMetrics = np.array((corr, \n",
        "                            r2_score(y_test, y_pred), \n",
        "                            mean_absolute_error(y_test, y_pred),\n",
        "                            np.sqrt(mean_squared_error(y_test, y_pred))))\n",
        "\n",
        "    metric_name = ['R', 'R2', 'MAE', 'RMSE']\n",
        "    df_EvalMetrics = pd.DataFrame(data=EvalMetrics).T\n",
        "    df_EvalMetrics.columns = metric_name\n",
        "\n",
        "    return df_EvalMetrics\n",
        "\n",
        "def ScatterPlot(ytest,ypred):\n",
        "    plt.scatter(ytest, ypred)\n",
        "    plt.xlabel('True Values')\n",
        "    plt.ylabel('Predictions')\n",
        "    lims = [np.min([ypred, ytest]), np.max([ypred, ytest])]\n",
        "    plt.xlim(lims)\n",
        "    plt.ylim(lims)\n",
        "    plt.gca().set_aspect('equal', adjustable='box')\n",
        "    _ = plt.plot(lims, lims)\n"
      ],
      "execution_count": null,
      "outputs": []
    },
    {
      "cell_type": "code",
      "metadata": {
        "id": "CHAXrAjauQyw",
        "colab": {
          "base_uri": "https://localhost:8080/"
        },
        "outputId": "b2b91240-77ed-445d-be42-dea895625835"
      },
      "source": [
        "print(Xmul.shape, Y.shape)\n",
        "\n",
        "X_train, X_test, y_train, y_test = train_test_split(Xmul, Y, test_size=0.25, random_state=0)"
      ],
      "execution_count": null,
      "outputs": [
        {
          "output_type": "stream",
          "text": [
            "(74, 4) (74, 1)\n"
          ],
          "name": "stdout"
        }
      ]
    },
    {
      "cell_type": "code",
      "metadata": {
        "id": "_JIdrL4D2-oq",
        "colab": {
          "base_uri": "https://localhost:8080/",
          "height": 408
        },
        "outputId": "0e01d46d-d4c3-40e8-b500-c4182b9e8c6a"
      },
      "source": [
        "def plotOverview(_X, _Y):\n",
        "    plt.figure(figsize=(16,3))\n",
        "    plt.subplot(1,3,1), plt.scatter(_X[:,0], _Y)\n",
        "    plt.subplot(1,3,2), plt.scatter(_X[:,1], _Y)\n",
        "    plt.subplot(1,3,3), plt.scatter(_X[:,2], _Y)\n",
        "\n",
        "    plt.figure(figsize=(16,3))\n",
        "    plt.subplot(1,3,1), plt.hist(_X[:,0])\n",
        "    plt.subplot(1,3,2), plt.hist(_X[:,1])\n",
        "    plt.subplot(1,3,3), plt.hist(_X[:,2])\n",
        "\n",
        "plotOverview(Xmul, Y)"
      ],
      "execution_count": null,
      "outputs": [
        {
          "output_type": "display_data",
          "data": {
            "image/png": "[encoded data removed]",
            "text/plain": [
              "<Figure size 1152x216 with 3 Axes>"
            ]
          },
          "metadata": {
            "tags": [],
            "needs_background": "light"
          }
        },
        {
          "output_type": "display_data",
          "data": {
            "image/png": "[encoded data removed]",
            "text/plain": [
              "<Figure size 1152x216 with 3 Axes>"
            ]
          },
          "metadata": {
            "tags": [],
            "needs_background": "light"
          }
        }
      ]
    },
    {
      "cell_type": "code",
      "metadata": {
        "colab": {
          "base_uri": "https://localhost:8080/",
          "height": 606
        },
        "id": "Vm_xVi-E2Fa5",
        "outputId": "edee9efd-b358-477d-c51a-b283b098e8cf"
      },
      "source": [
        "def compile_and_fit(model, _epochs, _verbosity):           \n",
        "    model.compile(optimizer=Adam(lr=1e-3), loss='mean_absolute_error')\n",
        "    \n",
        "    history = model.fit(Xmul, Y, \n",
        "                        validation_split = 0.1,\n",
        "                        epochs=_epochs, \n",
        "                        verbose=_verbosity)\n",
        "    \n",
        "    return history\n",
        "\n",
        "def plot_results(model, history):\n",
        "    plt.figure(figsize=(15,5))\n",
        "    plt.subplot(1,2,1)\n",
        "    plt.plot(history.history['loss'], label='loss')\n",
        "    plt.plot(history.history['val_loss'], label='val_loss')\n",
        "    plt.xlabel('Epoch')\n",
        "    plt.ylabel('Loss')\n",
        "    plt.legend()\n",
        "    plt.grid(True)\n",
        "    \n",
        "    y_pred = model.predict(Xmul)\n",
        "    y_pred_lin = [v[0] for v in y_pred]\n",
        "\n",
        "    plt.subplot(1,2,2)\n",
        "    plt.scatter(Y, y_pred_lin)\n",
        "    plt.xlabel('True Values')\n",
        "    plt.ylabel('Predicted Values')\n",
        "    # lims = [np.min([y_pred, Y]), np.max([y_pred, Y])]\n",
        "    # plt.xlim(lims)\n",
        "    # plt.ylim(lims)\n",
        "    plt.gca().set_aspect('equal', adjustable='box')\n",
        "    #_ = plt.plot(lims, lims, 'k')\n",
        "    \n",
        "    return y_pred_lin\n",
        "\n",
        "Kernel_initializer = 'lecun_normal'\n",
        "Bias_initializer = 'random_uniform'\n",
        "\n",
        "model = tf.keras.Sequential([\n",
        "    Dense(8, input_dim=(Xmul.shape[1]), \n",
        "             activation='relu', kernel_initializer=Kernel_initializer, bias_initializer=Bias_initializer), \n",
        "    Dense(4, activation='relu', kernel_initializer=Kernel_initializer, bias_initializer=Bias_initializer), \n",
        "    Dense(2, activation='relu', kernel_initializer=Kernel_initializer, bias_initializer=Bias_initializer), \n",
        "    Dense(1, kernel_initializer=Kernel_initializer, bias_initializer=Bias_initializer)\n",
        "])\n",
        "\n",
        "model.summary()\n",
        "\n",
        "history = compile_and_fit(model, 2000, 0)\n",
        "y_pred_lin = plot_results(model, history)\n",
        "\n",
        "# evaluations(Y, y_pred_ANN)"
      ],
      "execution_count": null,
      "outputs": [
        {
          "output_type": "stream",
          "text": [
            "Model: \"sequential_3\"\n",
            "_________________________________________________________________\n",
            "Layer (type)                 Output Shape              Param #   \n",
            "=================================================================\n",
            "dense_12 (Dense)             (None, 8)                 40        \n",
            "_________________________________________________________________\n",
            "dense_13 (Dense)             (None, 4)                 36        \n",
            "_________________________________________________________________\n",
            "dense_14 (Dense)             (None, 2)                 10        \n",
            "_________________________________________________________________\n",
            "dense_15 (Dense)             (None, 1)                 3         \n",
            "=================================================================\n",
            "Total params: 89\n",
            "Trainable params: 89\n",
            "Non-trainable params: 0\n",
            "_________________________________________________________________\n"
          ],
          "name": "stdout"
        },
        {
          "output_type": "display_data",
          "data": {
            "image/png": "[encoded data removed]",
            "text/plain": [
              "<Figure size 1080x360 with 2 Axes>"
            ]
          },
          "metadata": {
            "tags": [],
            "needs_background": "light"
          }
        }
      ]
    },
    {
      "cell_type": "code",
      "metadata": {
        "id": "ibRd7bGZYO1_"
      },
      "source": [
        ""
      ],
      "execution_count": null,
      "outputs": []
    }
  ]
}